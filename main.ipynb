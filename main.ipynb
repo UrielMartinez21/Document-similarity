{
 "cells": [
  {
   "cell_type": "markdown",
   "metadata": {},
   "source": [
    "## Bibliotecas"
   ]
  },
  {
   "cell_type": "code",
   "execution_count": 7,
   "metadata": {},
   "outputs": [],
   "source": [
    "from sklearn.feature_extraction.text import CountVectorizer         # Crear la matriz de términos\n",
    "from sklearn.feature_extraction.text import TfidfVectorizer         # Crear la matriz TF-IDF\n"
   ]
  },
  {
   "cell_type": "markdown",
   "metadata": {},
   "source": [
    "## Cargar información"
   ]
  },
  {
   "cell_type": "code",
   "execution_count": 5,
   "metadata": {},
   "outputs": [],
   "source": [
    "with open('corpus/corpus_filtrado.txt', \"r\", encoding=\"utf-8\") as informacion:\n",
    "    corpus = informacion.read().split('\\n')"
   ]
  },
  {
   "cell_type": "markdown",
   "metadata": {},
   "source": [
    "## Generar 3 vectores"
   ]
  },
  {
   "cell_type": "code",
   "execution_count": 9,
   "metadata": {},
   "outputs": [
    {
     "name": "stdout",
     "output_type": "stream",
     "text": [
      "Representación vectorial binarizada\n",
      "[[1 0 0 ... 0 0 0]\n",
      " [1 0 0 ... 0 0 0]\n",
      " [1 0 0 ... 0 0 0]\n",
      " ...\n",
      " [1 0 0 ... 0 0 0]\n",
      " [1 0 0 ... 0 0 0]\n",
      " [1 1 0 ... 0 0 0]]\n"
     ]
    }
   ],
   "source": [
    "# --> Vector binario\n",
    "vectorizador_binario = CountVectorizer(binary=True, token_pattern=r'(?u)\\w\\w+|\\w\\w+\\n|\\.')\n",
    "X = vectorizador_binario.fit_transform(corpus)\n",
    "\n",
    "# print(vectorizador_binario.get_feature_names_out())\n",
    "\n",
    "print('Representación vectorial binarizada')\n",
    "print(X.toarray())  # dense ndarray\n"
   ]
  },
  {
   "cell_type": "code",
   "execution_count": 10,
   "metadata": {},
   "outputs": [
    {
     "name": "stdout",
     "output_type": "stream",
     "text": [
      "Representación vectorial por frecuencia\n",
      "[[ 8  0  0 ...  0  0  0]\n",
      " [12  0  0 ...  0  0  0]\n",
      " [15  0  0 ...  0  0  0]\n",
      " ...\n",
      " [14  0  0 ...  0  0  0]\n",
      " [ 5  0  0 ...  0  0  0]\n",
      " [ 8  1  0 ...  0  0  0]]\n"
     ]
    }
   ],
   "source": [
    "# --> Vector de frecuencia\n",
    "vectorizador_frecuencia = CountVectorizer(token_pattern=r'(?u)\\w\\w+|\\w\\w+\\n|\\.')\n",
    "X = vectorizador_frecuencia.fit_transform(corpus)\n",
    "print('Representación vectorial por frecuencia')\n",
    "print(X.toarray())\n"
   ]
  },
  {
   "cell_type": "code",
   "execution_count": 11,
   "metadata": {},
   "outputs": [
    {
     "name": "stdout",
     "output_type": "stream",
     "text": [
      "Representación vectorial tf-idf\n",
      "[[0.11128216 0.         0.         ... 0.         0.         0.        ]\n",
      " [0.21623919 0.         0.         ... 0.         0.         0.        ]\n",
      " [0.14751695 0.         0.         ... 0.         0.         0.        ]\n",
      " ...\n",
      " [0.12842326 0.         0.         ... 0.         0.         0.        ]\n",
      " [0.10999061 0.         0.         ... 0.         0.         0.        ]\n",
      " [0.15682456 0.08227609 0.         ... 0.         0.         0.        ]]\n"
     ]
    }
   ],
   "source": [
    "# --> Vector TF-IDF\n",
    "vectorizador_tfidf = TfidfVectorizer(token_pattern=r'(?u)\\w\\w+|\\w\\w+\\n|\\.')\n",
    "X = vectorizador_tfidf.fit_transform(corpus)\n",
    "print('Representación vectorial tf-idf')\n",
    "print(X.toarray())\n"
   ]
  }
 ],
 "metadata": {
  "kernelspec": {
   "display_name": "Python 3",
   "language": "python",
   "name": "python3"
  },
  "language_info": {
   "codemirror_mode": {
    "name": "ipython",
    "version": 3
   },
   "file_extension": ".py",
   "mimetype": "text/x-python",
   "name": "python",
   "nbconvert_exporter": "python",
   "pygments_lexer": "ipython3",
   "version": "3.11.3"
  },
  "orig_nbformat": 4
 },
 "nbformat": 4,
 "nbformat_minor": 2
}
